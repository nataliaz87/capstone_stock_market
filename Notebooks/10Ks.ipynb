{
 "cells": [
  {
   "cell_type": "code",
   "execution_count": 1,
   "metadata": {},
   "outputs": [],
   "source": [
    "import pandas as pd\n",
    "import numpy as np\n",
    "import matplotlib.pyplot as plt\n",
    "import seaborn as sns\n",
    "import csv\n",
    "import ast\n",
    "import json\n",
    "from functools import reduce\n",
    "import os\n",
    "from plotly.subplots import make_subplots\n",
    "import plotly.graph_objects as go\n",
    "import plotly.express as px\n",
    "import datetime"
   ]
  },
  {
   "cell_type": "markdown",
   "metadata": {},
   "source": [
    "# Q3 2020"
   ]
  },
  {
   "cell_type": "code",
   "execution_count": null,
   "metadata": {},
   "outputs": [],
   "source": [
    "numbers_2020q3=pd.read_csv('C:/Users/Natalia/Documents/NSS/Capstone/Data/2020_q3/num.tsv', sep='\\t', low_memory = False)"
   ]
  },
  {
   "cell_type": "code",
   "execution_count": null,
   "metadata": {},
   "outputs": [],
   "source": [
    "submission_2020q3=pd.read_csv('C:/Users/Natalia/Documents/NSS/Capstone/Data/2020_q3/sub.tsv', sep='\\t', low_memory = False)"
   ]
  },
  {
   "cell_type": "code",
   "execution_count": null,
   "metadata": {},
   "outputs": [],
   "source": [
    "#presentation_2020q3=pd.read_csv('C:/Users/Natalia/Documents/NSS/Capstone/Data/2020_q3/pre.tsv', sep='\\t', low_memory = False)"
   ]
  },
  {
   "cell_type": "code",
   "execution_count": null,
   "metadata": {},
   "outputs": [],
   "source": [
    "#text_2020q3=pd.read_csv('C:/Users/Natalia/Documents/NSS/Capstone/Data/2020_q3/txt.tsv', sep='\\t', low_memory = False)"
   ]
  },
  {
   "cell_type": "code",
   "execution_count": null,
   "metadata": {},
   "outputs": [],
   "source": [
    "#tag_2020q3=pd.read_csv('C:/Users/Natalia/Documents/NSS/Capstone/Data/2020_q3/tag.tsv', sep='\\t',  error_bad_lines=False, low_memory = False)"
   ]
  },
  {
   "cell_type": "markdown",
   "metadata": {},
   "source": [
    "Table \"Numbers\" has 6068375 rows × 16 columns"
   ]
  },
  {
   "cell_type": "code",
   "execution_count": null,
   "metadata": {},
   "outputs": [],
   "source": [
    "numbers_2020q3.head()"
   ]
  },
  {
   "cell_type": "code",
   "execution_count": null,
   "metadata": {},
   "outputs": [],
   "source": [
    "numbers_2020q3.dtypes"
   ]
  },
  {
   "cell_type": "code",
   "execution_count": null,
   "metadata": {},
   "outputs": [],
   "source": [
    "numbers_2020q3[\"ddate\"] = pd.to_datetime(numbers_2020q3[\"ddate\"], format=\"%Y%m%d\")"
   ]
  },
  {
   "cell_type": "code",
   "execution_count": null,
   "metadata": {},
   "outputs": [],
   "source": [
    "numbers_2020q3.head()"
   ]
  },
  {
   "cell_type": "markdown",
   "metadata": {},
   "source": [
    "Table \"Submission\" has 14832 rows × 40 columns"
   ]
  },
  {
   "cell_type": "code",
   "execution_count": null,
   "metadata": {},
   "outputs": [],
   "source": [
    "submission_2020q3.head()"
   ]
  },
  {
   "cell_type": "code",
   "execution_count": null,
   "metadata": {},
   "outputs": [],
   "source": [
    "numbers_2020q3_tags = numbers_2020q3[\"tag\"].value_counts(sort=True)\n",
    "numbers_2020q3_tags.T"
   ]
  },
  {
   "cell_type": "code",
   "execution_count": null,
   "metadata": {},
   "outputs": [],
   "source": [
    "submission_2020q3[\"period\"] = pd.to_datetime(submission_2020q3[\"period\"], format=\"%Y%m%d\")\n",
    "submission_2020q3[\"filed\"] = pd.to_datetime(submission_2020q3[\"filed\"], format=\"%Y%m%d\")\n",
    "submission_2020q3[\"accepted\"] = pd.to_datetime(submission_2020q3[\"accepted\"])"
   ]
  },
  {
   "cell_type": "code",
   "execution_count": null,
   "metadata": {},
   "outputs": [],
   "source": [
    "submission_2020q3.select_dtypes(\"datetime\").head()"
   ]
  },
  {
   "cell_type": "code",
   "execution_count": null,
   "metadata": {},
   "outputs": [],
   "source": [
    "merged_l_num_sub = pd.merge(numbers_2020q3, submission_2020q3, on = ['adsh'], how='left')\n",
    "merged_l_num_sub.head()"
   ]
  },
  {
   "cell_type": "code",
   "execution_count": null,
   "metadata": {},
   "outputs": [],
   "source": [
    "merged_num_sub = pd.merge(numbers_2020q3, submission_2020q3, on = ['adsh'], how='outer')\n",
    "merged_num_sub.head()"
   ]
  },
  {
   "cell_type": "code",
   "execution_count": null,
   "metadata": {},
   "outputs": [],
   "source": [
    "# filter only 10-K forms\n",
    "tens = submission_2020q3[submission_2020q3[\"form\"].isin([\"10-K\"])]\n",
    "\n",
    "# count how many forms of each type there are in the dataset\n",
    "tens_counts = tens[\"form\"].value_counts().reset_index().rename(columns={\"index\":\"Form Type\", \"form\": \"Count\"})\n",
    "\n",
    "# using Plotly.Express create a bar chart\n",
    "fig = px.bar(tens_counts,\n",
    "            x=\"Form Type\",\n",
    "            y=\"Count\",\n",
    "            barmode='group', \n",
    "            text=\"Count\",\n",
    "            height = 450,\n",
    "            width = 320,\n",
    "            title=\"Number of Annual forms in 2020Q3\"\n",
    "           )\n",
    "fig.show()"
   ]
  },
  {
   "cell_type": "code",
   "execution_count": null,
   "metadata": {},
   "outputs": [],
   "source": [
    "tens_stats = tens.groupby([\"fy\",\"fp\"]).size().reset_index().sort_values(by=0, ascending=False)\n",
    "tens_stats[\"label\"] = np.where(tens_stats[0].rank(ascending=False)<10, tens_stats[\"fy\"].astype('str')+tens_stats[\"fp\"], \"Other\")\n",
    "tens_stats = tens_stats.groupby(\"label\").sum().reset_index().rename(columns={0:\"records\"}).sort_values(by=\"records\", ascending=False)"
   ]
  },
  {
   "cell_type": "code",
   "execution_count": null,
   "metadata": {},
   "outputs": [],
   "source": [
    "fig = make_subplots(rows=1, cols=2, specs=[[{'type':'bar'}, {'type':'pie'}]],)\n",
    "\n",
    "fig.add_trace(\n",
    "    go.Bar(y=tens_stats[\"records\"], x=tens_stats[\"label\"], text=tens_stats[\"records\"], \n",
    "           textposition='auto', \n",
    "           name=\"Forms - Bar Chart\"),\n",
    "    row=1, col=1,\n",
    ")\n",
    "\n",
    "fig.add_trace(\n",
    "    go.Pie(values=tens_stats[\"records\"], labels=tens_stats[\"label\"],textinfo='label+percent'),\n",
    "    row=1, col=2\n",
    ")\n",
    "\n",
    "fig.update_layout(title=\"Most Common Fiscal Years in 2020Q3 Dataset\")\n",
    "\n",
    "fig.show()"
   ]
  },
  {
   "cell_type": "markdown",
   "metadata": {},
   "source": [
    "### 10-Ks Balance Sheet Dates"
   ]
  },
  {
   "cell_type": "code",
   "execution_count": null,
   "metadata": {},
   "outputs": [],
   "source": [
    "tens_period_stats_2020Q3 = tens.groupby([\"form\",\"period\"]).size().reset_index().rename(columns={0:\"records\"})"
   ]
  },
  {
   "cell_type": "code",
   "execution_count": null,
   "metadata": {},
   "outputs": [],
   "source": [
    "fig=px.bar(tens_period_stats_2020Q3, # preprocess statistics in a DF\n",
    "           x=\"period\", # on x-axis display the period\n",
    "           y=\"records\", # on y-axis count of the records\n",
    "           color=\"form\", # split the bar chart by form (10-K, 10-Q)\n",
    "           # created groupped bar chart \n",
    "           barmode=\"group\", \n",
    "           text=\"records\", # label the bars with counts\n",
    "           # show only period from Sept 2019 to Dec 2020\n",
    "           # you can zoom out the chart by double click\n",
    "           range_x=['2019-09-30','2020-12-31'],\n",
    "           width = 500\n",
    "           \n",
    "          )\n",
    "# plotly also struggles a bit with date-time variables,\n",
    "# to make sure I see end of the months a specify that I really want ticks at these values\n",
    "fig.update_xaxes(\n",
    "    ticktext=tens_period_stats_2020Q3[\"period\"].astype('str'),\n",
    "    tickvals=tens_period_stats_2020Q3 [\"period\"].astype('str')\n",
    ")\n",
    "fig.update_layout(title=\"2020Q3\")\n",
    "fig.show()"
   ]
  },
  {
   "cell_type": "markdown",
   "metadata": {},
   "source": [
    "### How many 10-K reports were submitted by each company?"
   ]
  },
  {
   "cell_type": "code",
   "execution_count": null,
   "metadata": {},
   "outputs": [],
   "source": [
    "pd.options.plotting.backend = \"plotly\""
   ]
  },
  {
   "cell_type": "code",
   "execution_count": null,
   "metadata": {},
   "outputs": [],
   "source": [
    "# Was 10-K reported once by each company or more times? \n",
    "tens = submission_2020q3[submission_2020q3[\"form\"].isin([\"10-K\"])]\n",
    "\n",
    "# using `.value_counts().value_counts()` combo will tell us\n",
    "# how many companies have 1, 2 or more records\n",
    "tens_counts_by_company = tens[\"cik\"].value_counts().value_counts().sort_index().to_frame()\n",
    "\n",
    "# plot the chart using plotly directly from the dataset\n",
    "fig =tens_counts_by_company.plot(kind=\"bar\")\n",
    "fig.update_layout(title=\"The Number of 10-Ks Reported by Each Company\", width = 500)\n",
    "fig.show()"
   ]
  },
  {
   "cell_type": "code",
   "execution_count": null,
   "metadata": {},
   "outputs": [],
   "source": [
    "ten_k_filings = merged_num_sub[merged_num_sub[\"form\"]==\"10-K\"]#[[\"name\",\"adsh\",\"cik\", \"tag\", \"ddate\", \"value\", \"uom\",\"countryba\", \"stprba\",\"prevrpt\", \"form\", \"period\", \"fy\", \"fp\", \"filed\", \"accepted\", \"afs\", \"qtrs\"]]\n",
    "ten_k_filings#.head(10)"
   ]
  },
  {
   "cell_type": "code",
   "execution_count": null,
   "metadata": {},
   "outputs": [],
   "source": [
    "tensF_period_stats_2020Q3 = tens.groupby([\"form\",\"period\"]).size().reset_index()\n",
    "tensF_period_stats_2020Q3[\"label\"] = np.where(tensF_period_stats_2020Q3[0].rank(ascending=False)<8, tensF_period_stats_2020Q3[\"period\"].astype(\"str\"), \"Other\")\n",
    "tensF_period_stats_2020Q3= tensF_period_stats_2020Q3.groupby([\"form\",\"label\"]).sum().reset_index().sort_values(by=0, ascending=False)"
   ]
  },
  {
   "cell_type": "code",
   "execution_count": null,
   "metadata": {},
   "outputs": [],
   "source": [
    "fig=px.sunburst(tensF_period_stats_2020Q3,\n",
    "                path=[\"label\",\"form\"],\n",
    "                values=0)\n",
    "fig.show()"
   ]
  },
  {
   "cell_type": "markdown",
   "metadata": {},
   "source": [
    "### Let's filter out FY 2020 filings only."
   ]
  },
  {
   "cell_type": "code",
   "execution_count": null,
   "metadata": {},
   "outputs": [],
   "source": [
    "ten_k_filings_fy2020 = ten_k_filings[ten_k_filings[\"fy\"]==2020].reset_index()\n",
    "ten_k_filings_fy2020.T"
   ]
  },
  {
   "cell_type": "markdown",
   "metadata": {},
   "source": [
    "We can see that in the column \"tag\" the entries 0&1 and 3&4 have the same values in all but \"dimh\" (hexadecimal key for the dimensional information) and \"value\" columns. Which one is the true value? The only way to find out seems to be pulling up the actual 10 K report.\n",
    "\n",
    "This is what I found: As of October 31, 2019, the last business day of the registrant’s most recently completed second fiscal quarter, 30,042,050 Class A Common Shares and 1,821,587 Class B Common Shares of the registrant were outstanding. The aggregate market value (based upon the closing price of Class A Common Shares as quoted on the NASDAQ National Market System on October 31, 2019) of the Class A Common Shares held by non-affiliates on that date was approximately $516.5 million. As of July 2, 2020, 30,620,541 Class A Common Shares and 1,821,587 Class B Common Shares of the registrant were outstanding.\n",
    "\n",
    "Therefore, both values are true.\n",
    "\n",
    "https://sec.report/Document/0001628280-20-010300/"
   ]
  },
  {
   "cell_type": "code",
   "execution_count": null,
   "metadata": {},
   "outputs": [],
   "source": [
    "ten_k_filings_fy2020_stats = ten_k_filings_fy2020[\"ddate\"].value_counts().reset_index()\n",
    "ten_k_filings_fy2020_stats[\"label\"] = np.where(ten_k_filings_fy2020_stats[\"ddate\"].rank(ascending=False)<10, ten_k_filings_fy2020_stats[\"index\"].astype(str), \"Other\")\n",
    "ten_k_filings_fy2020_stats = ten_k_filings_fy2020_stats.groupby(\"label\").sum().reset_index()"
   ]
  },
  {
   "cell_type": "code",
   "execution_count": null,
   "metadata": {},
   "outputs": [],
   "source": [
    "fig = make_subplots(rows=1, cols=2, specs=[[{'type':'bar'}, {'type':'pie'}]],)\n",
    "\n",
    "fig.add_trace(\n",
    "    go.Bar(y=ten_k_filings_fy2020_stats[\"ddate\"], x=ten_k_filings_fy2020_stats[\"label\"].astype('str'), text=ten_k_filings_fy2020_stats[\"ddate\"], \n",
    "           textposition='auto', \n",
    "           name=\"Forms - Bar Chart\"),\n",
    "    row=1, col=1,\n",
    ")\n",
    "\n",
    "fig.update_xaxes(\n",
    "    ticktext=ten_k_filings_fy2020_stats[\"label\"].values,\n",
    "    tickvals=ten_k_filings_fy2020_stats[\"label\"].values,\n",
    "        row=1, col=1,\n",
    ")\n",
    "\n",
    "\n",
    "\n",
    "fig.add_trace(\n",
    "    go.Pie(values=ten_k_filings_fy2020_stats[\"ddate\"], labels=ten_k_filings_fy2020_stats[\"label\"],textinfo='label+percent'),\n",
    "    row=1, col=2\n",
    ")\n",
    "\n",
    "fig.update_layout(title=\"10Ks FY2020 Data in 2020Q3 is valid as of ...\")\n",
    "fig.show()\n"
   ]
  },
  {
   "cell_type": "code",
   "execution_count": null,
   "metadata": {},
   "outputs": [],
   "source": [
    "ten_k_filings_fy2020_stats"
   ]
  },
  {
   "cell_type": "code",
   "execution_count": null,
   "metadata": {},
   "outputs": [],
   "source": [
    "ten_k_filings_fy2020_stats = ten_k_filings_fy2020[\"ddate\"].value_counts().reset_index()\n",
    "ten_k_filings_fy2020_stats[\"label\"] = np.where(ten_k_filings_fy2020_stats[\"ddate\"].rank(ascending=False), ten_k_filings_fy2020_stats[\"index\"].astype(str), \"Other\")\n",
    "ten_k_filings_fy2020_stats = ten_k_filings_fy2020_stats.groupby(\"label\").sum().reset_index()\n",
    "with pd.option_context('display.max_rows', 999):\n",
    "    print (ten_k_filings_fy2020_stats)"
   ]
  },
  {
   "cell_type": "code",
   "execution_count": null,
   "metadata": {},
   "outputs": [],
   "source": [
    "ten_k_filings_fy2020_only = ten_k_filings_fy2020.loc[ten_k_filings_fy2020['ddate'] >= '2020'].reset_index(drop=True)\n",
    "ten_k_filings_fy2020_only"
   ]
  },
  {
   "cell_type": "code",
   "execution_count": null,
   "metadata": {},
   "outputs": [],
   "source": [
    "ten_k_filings_fy2020_only.to_csv('ten_k_filings_fy2020_only.csv')\n",
    "ten_k_filings_fy2020_only"
   ]
  },
  {
   "cell_type": "code",
   "execution_count": null,
   "metadata": {},
   "outputs": [],
   "source": [
    "ten_k_filings_fy2020_only_stats = ten_k_filings_fy2020_only[\"ddate\"].value_counts().reset_index()\n",
    "ten_k_filings_fy2020_only_stats[\"label\"] = np.where(ten_k_filings_fy2020_only_stats[\"ddate\"].rank(ascending=False)<10, ten_k_filings_fy2020_only_stats[\"index\"].astype(str), \"Other\")\n",
    "ten_k_filings_fy2020_only_stats= ten_k_filings_fy2020_only_stats.groupby(\"label\").sum().reset_index()"
   ]
  },
  {
   "cell_type": "code",
   "execution_count": null,
   "metadata": {},
   "outputs": [],
   "source": [
    "fig = make_subplots(rows=1, cols=2, specs=[[{'type':'bar'}, {'type':'pie'}]],)\n",
    "\n",
    "fig.add_trace(\n",
    "    go.Bar(y=ten_k_filings_fy2020_only_stats[\"ddate\"], x=ten_k_filings_fy2020_only_stats[\"label\"].astype('str'), text=ten_k_filings_fy2020_only_stats[\"ddate\"], \n",
    "           textposition='auto', \n",
    "           name=\"Forms - Bar Chart\"),\n",
    "    row=1, col=1,\n",
    ")\n",
    "\n",
    "fig.update_xaxes(\n",
    "    ticktext=ten_k_filings_fy2020_only_stats[\"label\"].values,\n",
    "    tickvals=ten_k_filings_fy2020_only_stats[\"label\"].values,\n",
    "        row=1, col=1,\n",
    ")\n",
    "\n",
    "\n",
    "\n",
    "fig.add_trace(\n",
    "    go.Pie(values=ten_k_filings_fy2020_only_stats[\"ddate\"], labels=ten_k_filings_fy2020_only_stats[\"label\"],textinfo='label+percent'),\n",
    "    row=1, col=2\n",
    ")\n",
    "\n",
    "fig.update_layout(title=\"10-Ks FY2020 Only Data in 2020Q3 is valid as of...\")\n",
    "fig.show()\n"
   ]
  },
  {
   "cell_type": "code",
   "execution_count": null,
   "metadata": {},
   "outputs": [],
   "source": [
    "tens = submission_2020q3[submission_2020q3[\"form\"].isin([\"10-K\"])]\n",
    "tens_fy2020 = tens[tens[\"fy\"]==2020].reset_index()\n",
    "tens_fy2020.head()"
   ]
  },
  {
   "cell_type": "code",
   "execution_count": null,
   "metadata": {},
   "outputs": [],
   "source": [
    "tens_counts_by_company = tens_fy2020[\"cik\"].value_counts().value_counts().sort_index().to_frame()\n",
    "\n",
    "# plot the chart using plotly directly from the dataset\n",
    "fig =tens_counts_by_company.plot(kind=\"bar\")\n",
    "fig.update_layout(title=\"The Number of 10-Ks for FY 2020 Reported by Each Company\", width=575)\n",
    "fig.show()"
   ]
  },
  {
   "cell_type": "code",
   "execution_count": null,
   "metadata": {},
   "outputs": [],
   "source": [
    "duplicates = tens_fy2020.groupby([\"adsh\",\"period\"]).size()[tens_fy2020.groupby([\"adsh\",\"period\"]).size()>1]\n",
    "duplicates"
   ]
  },
  {
   "cell_type": "code",
   "execution_count": null,
   "metadata": {},
   "outputs": [],
   "source": [
    "duplicates_check = ten_k_filings_fy2020_only.groupby([\"cik\",\"tag\",\"ddate\",\"adsh\"]).size()[ten_k_filings_fy2020_only.groupby([\"cik\",\"tag\",\"ddate\",\"adsh\"]).size()>1]\n",
    "duplicates_check.head()"
   ]
  },
  {
   "cell_type": "markdown",
   "metadata": {},
   "source": [
    "### Let's explore AMERICAN SOFTWARE INC. Its cik number is 713425."
   ]
  },
  {
   "cell_type": "code",
   "execution_count": null,
   "metadata": {},
   "outputs": [],
   "source": [
    "AMERICAN_SOFTWARE_INC = ten_k_filings_fy2020[ten_k_filings_fy2020[\"cik\"]==713425].reset_index(drop=True)\n",
    "AMERICAN_SOFTWARE_INC.T"
   ]
  },
  {
   "cell_type": "code",
   "execution_count": null,
   "metadata": {},
   "outputs": [],
   "source": [
    "AMERICAN_SOFTWARE_INC_tags_by_type = AMERICAN_SOFTWARE_INC[\"tag\"].value_counts()\n",
    "with pd.option_context('display.max_rows', 999):\n",
    "    print (AMERICAN_SOFTWARE_INC_tags_by_type)"
   ]
  },
  {
   "cell_type": "code",
   "execution_count": null,
   "metadata": {},
   "outputs": [],
   "source": [
    "presentation_2020q3=pd.read_csv('C:/Users/Natalia/Documents/NSS/Capstone/Data/2020_q3/pre.tsv', sep='\\t', low_memory = False)"
   ]
  },
  {
   "cell_type": "code",
   "execution_count": null,
   "metadata": {},
   "outputs": [],
   "source": [
    "presentation_2020q3.head()"
   ]
  },
  {
   "cell_type": "code",
   "execution_count": null,
   "metadata": {},
   "outputs": [],
   "source": [
    "presentation_2020q3['stmt'].value_counts()"
   ]
  },
  {
   "cell_type": "code",
   "execution_count": null,
   "metadata": {},
   "outputs": [],
   "source": [
    "#text_2020q3.head()"
   ]
  },
  {
   "cell_type": "code",
   "execution_count": null,
   "metadata": {},
   "outputs": [],
   "source": [
    "merged_num_sub.head()"
   ]
  },
  {
   "cell_type": "code",
   "execution_count": null,
   "metadata": {},
   "outputs": [],
   "source": [
    "#text_2020q3[\"ddate\"] = pd.to_datetime(text_2020q3[\"ddate\"], format=\"%Y%m%d\")"
   ]
  },
  {
   "cell_type": "code",
   "execution_count": null,
   "metadata": {},
   "outputs": [],
   "source": [
    "#text_2020q3_fy2020_only = text_2020q3.loc[text_2020q3['ddate'] >= '2020'].reset_index(drop=True)\n",
    "#text_2020q3_fy2020_only.T"
   ]
  },
  {
   "cell_type": "code",
   "execution_count": null,
   "metadata": {},
   "outputs": [],
   "source": [
    "#ten_k_filings_fy2020_only.T"
   ]
  },
  {
   "cell_type": "code",
   "execution_count": null,
   "metadata": {},
   "outputs": [],
   "source": [
    "#merged_tex_pres_fy2020 = pd.merge(text_2020q3, presentation_2020q3, on = ['adsh','tag','version'], how='outer')\n",
    "#merged_tex_pres_fy2020"
   ]
  },
  {
   "cell_type": "code",
   "execution_count": null,
   "metadata": {},
   "outputs": [],
   "source": [
    "#merged_tex_pres_fy2020_only = merged_tex_pres_fy2020.loc[merged_tex_pres_fy2020['ddate'] >= '2020'].reset_index(drop=True)\n",
    "#merged_tex_pres_fy2020_only.T"
   ]
  },
  {
   "cell_type": "markdown",
   "metadata": {},
   "source": [
    "# Q2 2020"
   ]
  },
  {
   "cell_type": "code",
   "execution_count": null,
   "metadata": {},
   "outputs": [],
   "source": [
    "numbers_2020q2=pd.read_csv('C:/Users/Natalia/Documents/NSS/Capstone/Data/2020_q2/num.tsv', sep='\\t', low_memory = False)"
   ]
  },
  {
   "cell_type": "code",
   "execution_count": null,
   "metadata": {},
   "outputs": [],
   "source": [
    "submission_2020q2=pd.read_csv('C:/Users/Natalia/Documents/NSS/Capstone/Data/2020_q2/sub.tsv', sep='\\t', low_memory = False)"
   ]
  },
  {
   "cell_type": "code",
   "execution_count": null,
   "metadata": {},
   "outputs": [],
   "source": [
    "numbers_2020q2[\"ddate\"] = pd.to_datetime(numbers_2020q2[\"ddate\"], format=\"%Y%m%d\")"
   ]
  },
  {
   "cell_type": "code",
   "execution_count": null,
   "metadata": {},
   "outputs": [],
   "source": [
    "numbers_2020q2.head(2)"
   ]
  },
  {
   "cell_type": "code",
   "execution_count": null,
   "metadata": {},
   "outputs": [],
   "source": [
    "submission_2020q2.head(2)"
   ]
  },
  {
   "cell_type": "code",
   "execution_count": null,
   "metadata": {},
   "outputs": [],
   "source": [
    "submission_2020q2[\"period\"] = pd.to_datetime(submission_2020q2[\"period\"], format=\"%Y%m%d\")\n",
    "submission_2020q2[\"filed\"] = pd.to_datetime(submission_2020q2[\"filed\"], format=\"%Y%m%d\")\n",
    "submission_2020q2[\"accepted\"] = pd.to_datetime(submission_2020q2[\"accepted\"])"
   ]
  },
  {
   "cell_type": "code",
   "execution_count": null,
   "metadata": {},
   "outputs": [],
   "source": [
    "submission_2020q2.select_dtypes(\"datetime\").head()"
   ]
  },
  {
   "cell_type": "code",
   "execution_count": null,
   "metadata": {},
   "outputs": [],
   "source": [
    "merged_num_sub_2020q2 = pd.merge(numbers_2020q2, submission_2020q2, on = ['adsh'], how='outer')\n",
    "merged_num_sub_2020q2.head()"
   ]
  },
  {
   "cell_type": "code",
   "execution_count": null,
   "metadata": {},
   "outputs": [],
   "source": [
    "# filter only 10-K forms\n",
    "tens_q2 = submission_2020q2[submission_2020q2[\"form\"].isin([\"10-K\"])]\n",
    "\n",
    "# count how many forms of each type there are in the dataset\n",
    "tens_counts_q2 = tens_q2[\"form\"].value_counts().reset_index().rename(columns={\"index\":\"Form Type\", \"form\": \"Count\"})\n",
    "\n",
    "# using Plotly.Express create a bar chart\n",
    "fig = px.bar(tens_counts_q2,\n",
    "            x=\"Form Type\",\n",
    "            y=\"Count\",\n",
    "            barmode='group', \n",
    "            text=\"Count\",\n",
    "            height = 450,\n",
    "            width = 320,\n",
    "            title=\"Number of Annual forms in 2020Q2\"\n",
    "           )\n",
    "fig.show()"
   ]
  },
  {
   "cell_type": "code",
   "execution_count": null,
   "metadata": {},
   "outputs": [],
   "source": [
    "tens_stats_q2 = tens_q2.groupby([\"fy\",\"fp\"]).size().reset_index().sort_values(by=0, ascending=False)\n",
    "tens_stats_q2[\"label\"] = np.where(tens_stats_q2[0].rank(ascending=False)<10, tens_stats_q2[\"fy\"].astype('str')+tens_stats_q2[\"fp\"], \"Other\")\n",
    "tens_stats_q2 = tens_stats_q2.groupby(\"label\").sum().reset_index().rename(columns={0:\"records\"}).sort_values(by=\"records\", ascending=False)"
   ]
  },
  {
   "cell_type": "code",
   "execution_count": null,
   "metadata": {},
   "outputs": [],
   "source": [
    "fig = make_subplots(rows=1, cols=2, specs=[[{'type':'bar'}, {'type':'pie'}]],)\n",
    "\n",
    "fig.add_trace(\n",
    "    go.Bar(y=tens_stats_q2[\"records\"], x=tens_stats_q2[\"label\"], text=tens_stats_q2[\"records\"], \n",
    "           textposition='auto', \n",
    "           name=\"Forms - Bar Chart\"),\n",
    "    row=1, col=1,\n",
    ")\n",
    "\n",
    "fig.add_trace(\n",
    "    go.Pie(values=tens_stats_q2[\"records\"], labels=tens_stats_q2[\"label\"],textinfo='label+percent'),\n",
    "    row=1, col=2\n",
    ")\n",
    "\n",
    "fig.update_layout(title=\"Most Common Fiscal Years in 2020Q2 Dataset\")\n",
    "\n",
    "fig.show()"
   ]
  },
  {
   "cell_type": "markdown",
   "metadata": {},
   "source": [
    "### 10-Ks Balance Sheet Dates"
   ]
  },
  {
   "cell_type": "code",
   "execution_count": null,
   "metadata": {},
   "outputs": [],
   "source": [
    "tens_period_stats_2020Q2 = tens_q2.groupby([\"form\",\"period\"]).size().reset_index().rename(columns={0:\"records\"})"
   ]
  },
  {
   "cell_type": "code",
   "execution_count": null,
   "metadata": {},
   "outputs": [],
   "source": [
    "fig=px.bar(tens_period_stats_2020Q2, # preprocess statistics in a DF\n",
    "           x=\"period\", # on x-axis display the period\n",
    "           y=\"records\", # on y-axis count of the records\n",
    "           color=\"form\",\n",
    "           # created groupped bar-chart (not stacked)\n",
    "           barmode=\"group\", \n",
    "           text=\"records\", # label the bars with counts\n",
    "           # show only period from Sept 2019 to Dec 2020\n",
    "           # you can zoom-out the chart by double click\n",
    "           range_x=['2019-09-30','2020-12-31'],\n",
    "           width = 500\n",
    "           \n",
    "          )\n",
    "\n",
    "# specified that I really want ticks at these values\n",
    "fig.update_xaxes(\n",
    "    ticktext=tens_period_stats_2020Q3[\"period\"].astype('str'),\n",
    "    tickvals=tens_period_stats_2020Q3 [\"period\"].astype('str')\n",
    ")\n",
    "fig.update_layout(title=\"2020Q2\")\n",
    "fig.show()"
   ]
  },
  {
   "cell_type": "markdown",
   "metadata": {},
   "source": [
    "### How many 10-K reports were submitted by each company?"
   ]
  },
  {
   "cell_type": "code",
   "execution_count": null,
   "metadata": {},
   "outputs": [],
   "source": [
    "# Was 10-K reported once by each company or more times? \n",
    "tens_q2 = submission_2020q2[submission_2020q2[\"form\"].isin([\"10-K\"])]\n",
    "\n",
    "# using `.value_counts().value_counts()` combo will tell us\n",
    "# how many companies have 1, 2 or more records\n",
    "tens_counts_by_company_q2 = tens_q2[\"cik\"].value_counts().value_counts().sort_index().to_frame()\n",
    "\n",
    "# plot the chart using plotly directly from the dataset\n",
    "fig =tens_counts_by_company_q2.plot(kind=\"bar\")\n",
    "fig.update_layout(title=\"The Number of 10-Ks Reported by Each Company\", width=500)\n",
    "fig.show()"
   ]
  },
  {
   "cell_type": "code",
   "execution_count": null,
   "metadata": {},
   "outputs": [],
   "source": [
    "ten_k_filings_q2 = merged_num_sub_2020q2[merged_num_sub_2020q2[\"form\"]==\"10-K\"]#[[\"name\",\"adsh\",\"cik\", \"tag\", \"ddate\", \"value\", \"uom\",\"countryba\", \"stprba\",\"prevrpt\", \"form\", \"period\", \"fy\", \"fp\", \"filed\", \"accepted\", \"afs\", \"qtrs\"]]\n",
    "ten_k_filings_q2.head()"
   ]
  },
  {
   "cell_type": "code",
   "execution_count": null,
   "metadata": {},
   "outputs": [],
   "source": [
    "tensF_period_stats_2020Q2 = tens_q2.groupby([\"form\",\"period\"]).size().reset_index()\n",
    "tensF_period_stats_2020Q2[\"label\"] = np.where(tensF_period_stats_2020Q2[0].rank(ascending=False)<8, tensF_period_stats_2020Q2[\"period\"].astype(\"str\"), \"Other\")\n",
    "tensF_period_stats_2020Q2= tensF_period_stats_2020Q2.groupby([\"form\",\"label\"]).sum().reset_index().sort_values(by=0, ascending=False)"
   ]
  },
  {
   "cell_type": "code",
   "execution_count": null,
   "metadata": {},
   "outputs": [],
   "source": [
    "fig=px.sunburst(tensF_period_stats_2020Q2,\n",
    "                path=[\"label\",\"form\"],\n",
    "                values=0)\n",
    "fig.show()"
   ]
  },
  {
   "cell_type": "markdown",
   "metadata": {},
   "source": [
    "### Let's filter out FY 2020 filings only."
   ]
  },
  {
   "cell_type": "code",
   "execution_count": null,
   "metadata": {},
   "outputs": [],
   "source": [
    "ten_k_filings_fy2020_q2 = ten_k_filings_q2[ten_k_filings_q2[\"fy\"]==2020].reset_index()\n",
    "ten_k_filings_fy2020_q2.T"
   ]
  },
  {
   "cell_type": "code",
   "execution_count": null,
   "metadata": {},
   "outputs": [],
   "source": [
    "ten_k_filings_fy2020_stats_q2 = ten_k_filings_fy2020_q2[\"ddate\"].value_counts().reset_index()\n",
    "ten_k_filings_fy2020_stats_q2[\"label\"] = np.where(ten_k_filings_fy2020_stats_q2[\"ddate\"].rank(ascending=False)<10, ten_k_filings_fy2020_stats_q2[\"index\"].astype(str), \"Other\")\n",
    "ten_k_filings_fy2020_stats_q2 = ten_k_filings_fy2020_stats_q2.groupby(\"label\").sum().reset_index()"
   ]
  },
  {
   "cell_type": "code",
   "execution_count": null,
   "metadata": {},
   "outputs": [],
   "source": [
    "fig = make_subplots(rows=1, cols=2, specs=[[{'type':'bar'}, {'type':'pie'}]],)\n",
    "\n",
    "fig.add_trace(\n",
    "    go.Bar(y=ten_k_filings_fy2020_stats_q2[\"ddate\"], x=ten_k_filings_fy2020_stats_q2[\"label\"].astype('str'), text=ten_k_filings_fy2020_stats_q2[\"ddate\"], \n",
    "           textposition='auto', \n",
    "           name=\"Forms - Bar Chart\"),\n",
    "    row=1, col=1,\n",
    ")\n",
    "\n",
    "fig.update_xaxes(\n",
    "    ticktext=ten_k_filings_fy2020_stats_q2[\"label\"].values,\n",
    "    tickvals=ten_k_filings_fy2020_stats_q2[\"label\"].values,\n",
    "        row=1, col=1,\n",
    ")\n",
    "\n",
    "\n",
    "\n",
    "fig.add_trace(\n",
    "    go.Pie(values=ten_k_filings_fy2020_stats_q2[\"ddate\"], labels=ten_k_filings_fy2020_stats_q2[\"label\"],textinfo='label+percent'),\n",
    "    row=1, col=2\n",
    ")\n",
    "\n",
    "fig.update_layout(title=\"10Ks FY2020 Data in 2020Q2 is valid as of ...\")\n",
    "fig.show()\n"
   ]
  },
  {
   "cell_type": "code",
   "execution_count": null,
   "metadata": {},
   "outputs": [],
   "source": [
    "ten_k_filings_fy2020_stats_q2"
   ]
  },
  {
   "cell_type": "code",
   "execution_count": null,
   "metadata": {},
   "outputs": [],
   "source": [
    "ten_k_filings_fy2020_only_q2 = ten_k_filings_fy2020_q2.loc[ten_k_filings_fy2020_q2['ddate'] >= '2020'].reset_index(drop=True)\n",
    "ten_k_filings_fy2020_only_q2"
   ]
  },
  {
   "cell_type": "code",
   "execution_count": null,
   "metadata": {},
   "outputs": [],
   "source": [
    "ten_k_filings_fy2020_only_stats_q2 = ten_k_filings_fy2020_only_q2[\"ddate\"].value_counts().reset_index()\n",
    "ten_k_filings_fy2020_only_stats_q2[\"label\"] = np.where(ten_k_filings_fy2020_only_stats_q2[\"ddate\"].rank(ascending=False)<10, ten_k_filings_fy2020_only_stats_q2[\"index\"].astype(str), \"Other\")\n",
    "ten_k_filings_fy2020_only_stats_q2= ten_k_filings_fy2020_only_stats_q2.groupby(\"label\").sum().reset_index()"
   ]
  },
  {
   "cell_type": "code",
   "execution_count": null,
   "metadata": {},
   "outputs": [],
   "source": [
    "fig = make_subplots(rows=1, cols=2, specs=[[{'type':'bar'}, {'type':'pie'}]],)\n",
    "\n",
    "fig.add_trace(\n",
    "    go.Bar(y=ten_k_filings_fy2020_only_stats_q2[\"ddate\"], x=ten_k_filings_fy2020_only_stats_q2[\"label\"].astype('str'), text=ten_k_filings_fy2020_only_stats_q2[\"ddate\"], \n",
    "           textposition='auto', \n",
    "           name=\"Forms - Bar Chart\"),\n",
    "    row=1, col=1,\n",
    ")\n",
    "\n",
    "fig.update_xaxes(\n",
    "    ticktext=ten_k_filings_fy2020_only_stats_q2[\"label\"].values,\n",
    "    tickvals=ten_k_filings_fy2020_only_stats_q2[\"label\"].values,\n",
    "        row=1, col=1,\n",
    ")\n",
    "\n",
    "\n",
    "\n",
    "fig.add_trace(\n",
    "    go.Pie(values=ten_k_filings_fy2020_only_stats_q2[\"ddate\"], labels=ten_k_filings_fy2020_only_stats_q2[\"label\"],textinfo='label+percent'),\n",
    "    row=1, col=2\n",
    ")\n",
    "\n",
    "fig.update_layout(title=\"10Ks FY2020 Data Only in 2020Q2 is valid as of ...\", width = 1070)\n",
    "fig.show()\n"
   ]
  },
  {
   "cell_type": "code",
   "execution_count": null,
   "metadata": {},
   "outputs": [],
   "source": [
    "tens_q2 = submission_2020q2[submission_2020q2[\"form\"].isin([\"10-K\"])]\n",
    "tens_fy2020_q2 = tens_q2[tens_q2[\"fy\"]==2020].reset_index()\n",
    "tens_fy2020_q2.head()"
   ]
  },
  {
   "cell_type": "code",
   "execution_count": null,
   "metadata": {},
   "outputs": [],
   "source": [
    "tens_counts_by_company_q2 = tens_fy2020_q2[\"cik\"].value_counts().value_counts().sort_index().to_frame()\n",
    "\n",
    "# plot the chart using plotly directly from the dataset\n",
    "fig =tens_counts_by_company_q2.plot(kind=\"bar\")\n",
    "fig.update_layout(title=\"The Number of 10-Ks for FY 2020 Reported by Each Company in 2020 Q2\", width = 750)\n",
    "fig.show()"
   ]
  },
  {
   "cell_type": "markdown",
   "metadata": {},
   "source": [
    "# Q1 2020"
   ]
  },
  {
   "cell_type": "code",
   "execution_count": null,
   "metadata": {},
   "outputs": [],
   "source": [
    "numbers_2020q1=pd.read_csv('C:/Users/Natalia/Documents/NSS/Capstone/Data/2020_q1/num.tsv', sep='\\t', low_memory = False)"
   ]
  },
  {
   "cell_type": "code",
   "execution_count": null,
   "metadata": {},
   "outputs": [],
   "source": [
    "submission_2020q1=pd.read_csv('C:/Users/Natalia/Documents/NSS/Capstone/Data/2020_q1/sub.tsv', sep='\\t', low_memory = False)"
   ]
  },
  {
   "cell_type": "code",
   "execution_count": null,
   "metadata": {},
   "outputs": [],
   "source": [
    "numbers_2020q1[\"ddate\"] = pd.to_datetime(numbers_2020q1[\"ddate\"], format=\"%Y%m%d\")"
   ]
  },
  {
   "cell_type": "code",
   "execution_count": null,
   "metadata": {},
   "outputs": [],
   "source": [
    "submission_2020q1[\"period\"] = pd.to_datetime(submission_2020q1[\"period\"], format=\"%Y%m%d\")\n",
    "submission_2020q1[\"filed\"] = pd.to_datetime(submission_2020q1[\"filed\"], format=\"%Y%m%d\")\n",
    "submission_2020q1[\"accepted\"] = pd.to_datetime(submission_2020q1[\"accepted\"])"
   ]
  },
  {
   "cell_type": "code",
   "execution_count": null,
   "metadata": {},
   "outputs": [],
   "source": [
    "merged_num_sub_q1 = pd.merge(numbers_2020q1, submission_2020q1, on = ['adsh'], how='outer')\n",
    "merged_num_sub_q1.head()"
   ]
  },
  {
   "cell_type": "code",
   "execution_count": null,
   "metadata": {},
   "outputs": [],
   "source": [
    "# filter only 10-K forms\n",
    "tens_q1 = submission_2020q1[submission_2020q1[\"form\"].isin([\"10-K\"])]\n",
    "\n",
    "# count how many forms of each type there are in the dataset\n",
    "tens_counts_q1 = tens_q1[\"form\"].value_counts().reset_index().rename(columns={\"index\":\"Form Type\", \"form\": \"Count\"})\n",
    "\n",
    "# using Plotly.Express create a bar chart\n",
    "fig = px.bar(tens_counts_q1,\n",
    "            x=\"Form Type\",\n",
    "            y=\"Count\",\n",
    "            barmode='group', \n",
    "            text=\"Count\",\n",
    "            height = 450,\n",
    "            width = 320,\n",
    "            title=\"Number of Annual forms in 2020Q1\"\n",
    "           )\n",
    "fig.show()"
   ]
  },
  {
   "cell_type": "code",
   "execution_count": null,
   "metadata": {},
   "outputs": [],
   "source": [
    "tens_stats_q1 = tens_q1.groupby([\"fy\",\"fp\"]).size().reset_index().sort_values(by=0, ascending=False)\n",
    "tens_stats_q1[\"label\"] = np.where(tens_stats_q1[0].rank(ascending=False)<7, tens_stats_q1[\"fy\"].astype('str')+tens_stats_q1[\"fp\"], \"Other\")\n",
    "tens_stats_q1 = tens_stats_q1.groupby(\"label\").sum().reset_index().rename(columns={0:\"records\"}).sort_values(by=\"records\", ascending=False)"
   ]
  },
  {
   "cell_type": "code",
   "execution_count": null,
   "metadata": {},
   "outputs": [],
   "source": [
    "fig = make_subplots(rows=1, cols=2, specs=[[{'type':'bar'}, {'type':'pie'}]],)\n",
    "\n",
    "fig.add_trace(\n",
    "    go.Bar(y=tens_stats_q1[\"records\"], x=tens_stats_q1[\"label\"], text=tens_stats_q1[\"records\"], \n",
    "           textposition='auto', \n",
    "           name=\"Forms - Bar Chart\"),\n",
    "    row=1, col=1,\n",
    ")\n",
    "\n",
    "fig.add_trace(\n",
    "    go.Pie(values=tens_stats_q1[\"records\"], labels=tens_stats_q1[\"label\"],textinfo='label+percent'),\n",
    "    row=1, col=2\n",
    ")\n",
    "\n",
    "fig.update_layout(title=\"Most Common Fiscal Years in 2020Q1 Dataset\")\n",
    "\n",
    "fig.show()"
   ]
  },
  {
   "cell_type": "code",
   "execution_count": null,
   "metadata": {},
   "outputs": [],
   "source": [
    "tens_stats_q1 = tens_q1.groupby([\"fy\",\"fp\"]).size().reset_index().sort_values(by=0, ascending=False)\n",
    "tens_stats_q1[\"label\"] = np.where(tens_stats_q1[0].rank(ascending=False), tens_stats_q1[\"fy\"].astype('str')+tens_stats_q1[\"fp\"], \"Other\")\n",
    "tens_stats_q1 = tens_stats_q1.groupby(\"label\").sum().reset_index().rename(columns={0:\"records\"}).sort_values(by=\"records\", ascending=False)"
   ]
  },
  {
   "cell_type": "code",
   "execution_count": null,
   "metadata": {},
   "outputs": [],
   "source": [
    "tens_stats_q1.reset_index(drop=True)\n",
    "tens_stats_q1[['fy', 'records']]"
   ]
  },
  {
   "cell_type": "markdown",
   "metadata": {},
   "source": [
    "### 10-Ks Balance Sheet Dates"
   ]
  },
  {
   "cell_type": "code",
   "execution_count": null,
   "metadata": {},
   "outputs": [],
   "source": [
    "tens_period_stats_2020Q1 = tens_q1.groupby([\"form\",\"period\"]).size().reset_index().rename(columns={0:\"records\"})"
   ]
  },
  {
   "cell_type": "code",
   "execution_count": null,
   "metadata": {},
   "outputs": [],
   "source": [
    "fig=px.bar(tens_period_stats_2020Q1, # preprocess statistics in a DF\n",
    "           x=\"period\", # on x-axis display the period\n",
    "           y=\"records\", # on y-axis count of the records\n",
    "           color=\"form\", # split the bar chart by form (10-K, 10-Q)\n",
    "           # created groupped bar-chart (not stacked)\n",
    "           barmode=\"group\", \n",
    "           text=\"records\", # label the bars with counts\n",
    "           # show only period from Sept 2019 to Dec 2020\n",
    "           # you can zoom-out the chart by double click\n",
    "           range_x=['2019-09-30','2020-12-31'],\n",
    "           width = 500\n",
    "           \n",
    "          )\n",
    "# plotly also struggles a bit with date-time variables,\n",
    "# to make sure I see end of the months a specify that I really want ticks at these values\n",
    "fig.update_xaxes(\n",
    "    ticktext=tens_period_stats_2020Q1[\"period\"].astype('str'),\n",
    "    tickvals=tens_period_stats_2020Q1 [\"period\"].astype('str')\n",
    ")\n",
    "fig.update_layout(title=\"2020Q1\")\n",
    "fig.show()"
   ]
  },
  {
   "cell_type": "markdown",
   "metadata": {},
   "source": [
    "### How many 10-K reports were submitted by each company?"
   ]
  },
  {
   "cell_type": "code",
   "execution_count": null,
   "metadata": {},
   "outputs": [],
   "source": [
    "# Was 10-K reported once by each company or more times? \n",
    "tens_q1 = submission_2020q1[submission_2020q1[\"form\"].isin([\"10-K\"])]\n",
    "\n",
    "# using `.value_counts().value_counts()` combo will tell us\n",
    "# how many companies have 1, 2 or more records\n",
    "tens_counts_by_company_q1 = tens_q1[\"cik\"].value_counts().value_counts().sort_index().to_frame()\n",
    "\n",
    "# plot the chart using plotly directly from the dataset\n",
    "fig =tens_counts_by_company_q1.plot(kind=\"bar\")\n",
    "fig.update_layout(title=\"The Number of 10-Ks Reported by Each Company\", width = 500)\n",
    "fig.show()"
   ]
  },
  {
   "cell_type": "code",
   "execution_count": null,
   "metadata": {},
   "outputs": [],
   "source": [
    "ten_k_filings_q1 = merged_num_sub_q1[merged_num_sub_q1[\"form\"]==\"10-K\"]#[[\"name\",\"adsh\",\"cik\", \"tag\", \"ddate\", \"value\", \"uom\",\"countryba\", \"stprba\",\"prevrpt\", \"form\", \"period\", \"fy\", \"fp\", \"filed\", \"accepted\", \"afs\", \"qtrs\"]]\n",
    "ten_k_filings_q1.head(2)"
   ]
  },
  {
   "cell_type": "code",
   "execution_count": null,
   "metadata": {},
   "outputs": [],
   "source": [
    "tensF_period_stats_2020Q1 = tens_q1.groupby([\"form\",\"period\"]).size().reset_index()\n",
    "tensF_period_stats_2020Q1[\"label\"] = np.where(tensF_period_stats_2020Q1[0].rank(ascending=False)<8, tensF_period_stats_2020Q1[\"period\"].astype(\"str\"), \"Other\")\n",
    "tensF_period_stats_2020Q1= tensF_period_stats_2020Q1.groupby([\"form\",\"label\"]).sum().reset_index().sort_values(by=0, ascending=False)"
   ]
  },
  {
   "cell_type": "code",
   "execution_count": null,
   "metadata": {},
   "outputs": [],
   "source": [
    "fig=px.sunburst(tensF_period_stats_2020Q1,\n",
    "                path=[\"label\",\"form\"],\n",
    "                values=0)\n",
    "fig.show()"
   ]
  },
  {
   "cell_type": "code",
   "execution_count": null,
   "metadata": {},
   "outputs": [],
   "source": [
    "tensF_period_stats_2020Q1 = tens_q1.groupby([\"form\",\"period\"]).size().reset_index()\n",
    "tensF_period_stats_2020Q1[\"label\"] = np.where(tensF_period_stats_2020Q1[0].rank(ascending=True), tensF_period_stats_2020Q1[\"period\"].astype(\"str\"), \"Other\")\n",
    "tensF_period_stats_2020Q1= tensF_period_stats_2020Q1.groupby([\"form\",\"label\"]).sum().reset_index().sort_values(by=0, ascending=False)"
   ]
  },
  {
   "cell_type": "code",
   "execution_count": null,
   "metadata": {},
   "outputs": [],
   "source": [
    "tensF_period_stats_2020Q1"
   ]
  },
  {
   "cell_type": "markdown",
   "metadata": {},
   "source": [
    "### Let's filter out FY 2020 filings only."
   ]
  },
  {
   "cell_type": "code",
   "execution_count": null,
   "metadata": {},
   "outputs": [],
   "source": [
    "ten_k_filings_fy2020_q1 = ten_k_filings_q1[ten_k_filings_q1[\"fy\"]==2020].reset_index()\n",
    "ten_k_filings_fy2020_q1"
   ]
  },
  {
   "cell_type": "markdown",
   "metadata": {},
   "source": [
    "There are no filings for FY 2020 in this data set!"
   ]
  },
  {
   "cell_type": "code",
   "execution_count": null,
   "metadata": {},
   "outputs": [],
   "source": [
    "ten_k_filings_fy2020_stats_q1 = ten_k_filings_fy2020_q1[\"ddate\"].value_counts().reset_index()\n",
    "ten_k_filings_fy2020_stats_q1[\"label\"] = np.where(ten_k_filings_fy2020_stats_q1[\"ddate\"].rank(ascending=False)<10, ten_k_filings_fy2020_stats_q1[\"index\"].astype(str), \"Other\")\n",
    "ten_k_filings_fy2020_stats_q1 = ten_k_filings_fy2020_stats_q1.groupby(\"label\").sum().reset_index()"
   ]
  },
  {
   "cell_type": "code",
   "execution_count": null,
   "metadata": {},
   "outputs": [],
   "source": [
    "fig = make_subplots(rows=1, cols=2, specs=[[{'type':'bar'}, {'type':'pie'}]],)\n",
    "\n",
    "fig.add_trace(\n",
    "    go.Bar(y=ten_k_filings_fy2020_stats_q1[\"ddate\"], x=ten_k_filings_fy2020_stats_q1[\"label\"].astype('str'), text=ten_k_filings_fy2020_stats_q1[\"ddate\"], \n",
    "           textposition='auto', \n",
    "           name=\"Forms - Bar Chart\"),\n",
    "    row=1, col=1,\n",
    ")\n",
    "\n",
    "fig.update_xaxes(\n",
    "    ticktext=ten_k_filings_fy2020_stats_q1[\"label\"].values,\n",
    "    tickvals=ten_k_filings_fy2020_stats_q1[\"label\"].values,\n",
    "        row=1, col=1,\n",
    ")\n",
    "\n",
    "\n",
    "\n",
    "fig.add_trace(\n",
    "    go.Pie(values=ten_k_filings_fy2020_stats_q1[\"ddate\"], labels=ten_k_filings_fy2020_stats_q1[\"label\"],textinfo='label+percent'),\n",
    "    row=1, col=2\n",
    ")\n",
    "\n",
    "fig.update_layout(title=\"10Ks FY2020 Data in 2020Q1 is valid as of ...\")\n",
    "fig.show()"
   ]
  },
  {
   "cell_type": "code",
   "execution_count": null,
   "metadata": {},
   "outputs": [],
   "source": []
  }
 ],
 "metadata": {
  "kernelspec": {
   "display_name": "Python 3",
   "language": "python",
   "name": "python3"
  },
  "language_info": {
   "codemirror_mode": {
    "name": "ipython",
    "version": 3
   },
   "file_extension": ".py",
   "mimetype": "text/x-python",
   "name": "python",
   "nbconvert_exporter": "python",
   "pygments_lexer": "ipython3",
   "version": "3.8.5"
  }
 },
 "nbformat": 4,
 "nbformat_minor": 4
}
