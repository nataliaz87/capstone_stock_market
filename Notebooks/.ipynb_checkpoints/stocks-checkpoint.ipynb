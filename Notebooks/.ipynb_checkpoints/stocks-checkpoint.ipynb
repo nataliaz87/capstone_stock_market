{
 "cells": [
  {
   "cell_type": "code",
   "execution_count": 4,
   "metadata": {},
   "outputs": [],
   "source": [
    "import pandas as pd\n",
    "import seaborn as sns\n",
    "import matplotlib.pyplot as plt\n",
    "import numpy as np\n",
    "import matplotlib.ticker as ticker\n",
    "import matplotlib.dates as mdates\n",
    "import geopandas as gpd\n",
    "import folium\n",
    "from folium.plugins import MarkerCluster\n",
    "from folium.plugins import FastMarkerCluster\n",
    "import re"
   ]
  },
  {
   "cell_type": "markdown",
   "metadata": {},
   "source": [
    "### ·          SUB – Submission data set; this includes one record for each XBRL submission. The set includes fields of information pertinent to the submission and the filing entity. Information is extracted from the SEC’s EDGAR system and the filings submitted to the SEC by registrants.\n",
    "\n",
    "### ·          NUM – Number data set; this includes one row for each distinct amount from each submission included in the SUB data set. The Number data set includes, for every submission, for each primary financial statement as it is rendered by the SEC Viewer/Previewer, all line item values.\n",
    "\n",
    "### ·         TAG – Tag data set; includes defining information about each tag.  Information includes tag descriptions (documentation labels), taxonomy version information and other tag attributes.\n",
    "\n",
    "### ·          PRE – Presentation data set; this provides information about how the tags and numbers were presented in the primary financial statements."
   ]
  },
  {
   "cell_type": "markdown",
   "metadata": {},
   "source": [
    "# 2020 Quarters"
   ]
  },
  {
   "cell_type": "code",
   "execution_count": 12,
   "metadata": {},
   "outputs": [
    {
     "data": {
      "text/html": [
       "<div>\n",
       "<style scoped>\n",
       "    .dataframe tbody tr th:only-of-type {\n",
       "        vertical-align: middle;\n",
       "    }\n",
       "\n",
       "    .dataframe tbody tr th {\n",
       "        vertical-align: top;\n",
       "    }\n",
       "\n",
       "    .dataframe thead th {\n",
       "        text-align: right;\n",
       "    }\n",
       "</style>\n",
       "<table border=\"1\" class=\"dataframe\">\n",
       "  <thead>\n",
       "    <tr style=\"text-align: right;\">\n",
       "      <th></th>\n",
       "      <th>adsh\\ttag\\tversion\\tcoreg\\tddate\\tqtrs\\tuom\\tvalue\\tfootnote</th>\n",
       "      <th>Unnamed: 1</th>\n",
       "    </tr>\n",
       "  </thead>\n",
       "  <tbody>\n",
       "    <tr>\n",
       "      <th>0</th>\n",
       "      <td>0001661920-20-000055\\tEntityCommonStockSharesO...</td>\n",
       "      <td>NaN</td>\n",
       "    </tr>\n",
       "    <tr>\n",
       "      <th>1</th>\n",
       "      <td>0001469709-20-000039\\tEntityCommonStockSharesO...</td>\n",
       "      <td>NaN</td>\n",
       "    </tr>\n",
       "    <tr>\n",
       "      <th>2</th>\n",
       "      <td>0001437557-20-000069\\tEntityCommonStockSharesO...</td>\n",
       "      <td>NaN</td>\n",
       "    </tr>\n",
       "    <tr>\n",
       "      <th>3</th>\n",
       "      <td>0001628280-20-010192\\tEntityCommonStockSharesO...</td>\n",
       "      <td>NaN</td>\n",
       "    </tr>\n",
       "    <tr>\n",
       "      <th>4</th>\n",
       "      <td>0001469709-20-000042\\tEntityCommonStockSharesO...</td>\n",
       "      <td>NaN</td>\n",
       "    </tr>\n",
       "    <tr>\n",
       "      <th>...</th>\n",
       "      <td>...</td>\n",
       "      <td>...</td>\n",
       "    </tr>\n",
       "    <tr>\n",
       "      <th>2351635</th>\n",
       "      <td>0001731122-20-000975\\tSharesIssuedInKindForPre...</td>\n",
       "      <td>0000</td>\n",
       "    </tr>\n",
       "    <tr>\n",
       "      <th>2351636</th>\n",
       "      <td>0001731122-20-000975\\tStockIssuedPursuantToWar...</td>\n",
       "      <td>NaN</td>\n",
       "    </tr>\n",
       "    <tr>\n",
       "      <th>2351637</th>\n",
       "      <td>0001731122-20-000975\\tStockIssuedPursuantToWar...</td>\n",
       "      <td>NaN</td>\n",
       "    </tr>\n",
       "    <tr>\n",
       "      <th>2351638</th>\n",
       "      <td>0001731122-20-000975\\tStockoptionsComp\\t000173...</td>\n",
       "      <td>NaN</td>\n",
       "    </tr>\n",
       "    <tr>\n",
       "      <th>2351639</th>\n",
       "      <td>0001731122-20-000975\\tStockoptionsComp\\t000173...</td>\n",
       "      <td>NaN</td>\n",
       "    </tr>\n",
       "  </tbody>\n",
       "</table>\n",
       "<p>2351640 rows × 2 columns</p>\n",
       "</div>"
      ],
      "text/plain": [
       "        adsh\\ttag\\tversion\\tcoreg\\tddate\\tqtrs\\tuom\\tvalue\\tfootnote  \\\n",
       "0        0001661920-20-000055\\tEntityCommonStockSharesO...             \n",
       "1        0001469709-20-000039\\tEntityCommonStockSharesO...             \n",
       "2        0001437557-20-000069\\tEntityCommonStockSharesO...             \n",
       "3        0001628280-20-010192\\tEntityCommonStockSharesO...             \n",
       "4        0001469709-20-000042\\tEntityCommonStockSharesO...             \n",
       "...                                                    ...             \n",
       "2351635  0001731122-20-000975\\tSharesIssuedInKindForPre...             \n",
       "2351636  0001731122-20-000975\\tStockIssuedPursuantToWar...             \n",
       "2351637  0001731122-20-000975\\tStockIssuedPursuantToWar...             \n",
       "2351638  0001731122-20-000975\\tStockoptionsComp\\t000173...             \n",
       "2351639  0001731122-20-000975\\tStockoptionsComp\\t000173...             \n",
       "\n",
       "        Unnamed: 1  \n",
       "0              NaN  \n",
       "1              NaN  \n",
       "2              NaN  \n",
       "3              NaN  \n",
       "4              NaN  \n",
       "...            ...  \n",
       "2351635       0000  \n",
       "2351636        NaN  \n",
       "2351637        NaN  \n",
       "2351638        NaN  \n",
       "2351639        NaN  \n",
       "\n",
       "[2351640 rows x 2 columns]"
      ]
     },
     "execution_count": 12,
     "metadata": {},
     "output_type": "execute_result"
    }
   ],
   "source": [
    "df = pd.read_fwf('../Data/num_2020q3.txt')\n",
    "df\n",
    "##df = df[0].str.split(',', expand=True)\n"
   ]
  },
  {
   "cell_type": "code",
   "execution_count": 3,
   "metadata": {},
   "outputs": [],
   "source": [
    "##q3_2020 = pd.read_csv('../Data/num_2020q3.txt', sep=\"\\\")\n",
    "##q3_2020 = q3_2020 [0].str.split(',', expand=True)\n"
   ]
  },
  {
   "cell_type": "code",
   "execution_count": null,
   "metadata": {},
   "outputs": [],
   "source": []
  }
 ],
 "metadata": {
  "kernelspec": {
   "display_name": "Python 3",
   "language": "python",
   "name": "python3"
  },
  "language_info": {
   "codemirror_mode": {
    "name": "ipython",
    "version": 3
   },
   "file_extension": ".py",
   "mimetype": "text/x-python",
   "name": "python",
   "nbconvert_exporter": "python",
   "pygments_lexer": "ipython3",
   "version": "3.8.5"
  }
 },
 "nbformat": 4,
 "nbformat_minor": 4
}
